{
 "cells": [
  {
   "cell_type": "markdown",
   "metadata": {
    "colab_type": "text",
    "id": "view-in-github"
   },
   "source": [
    "<a href=\"https://colab.research.google.com/github/amplabs-ai/amplabs/blob/main/MRS_Sandia_AmpLabs_Example_3.ipynb\" target=\"_parent\"><img src=\"https://colab.research.google.com/assets/colab-badge.svg\" alt=\"Open In Colab\"/></a>"
   ]
  },
  {
   "cell_type": "markdown",
   "metadata": {
    "id": "YvzGQ6-2fohZ"
   },
   "source": [
    "#MRS - Sandia AmpLabs Example 3\n",
    "\n"
   ]
  },
  {
   "cell_type": "markdown",
   "metadata": {
    "id": "G4Ox9PxNPUq1"
   },
   "source": [
    "\n",
    "\n",
    "\n",
    "In this demo you will learn how to:\n",
    "\n",
    "1. Fetch battery data from **AmpLabs JSON API**\n",
    "2. Define new metrics and add them as new corresponding columns using **Pandas**\n",
    "3. Plot graphs using **Matplotlib**\n",
    "\n",
    "\n",
    "We will use the following Python libraries and tools\n",
    "\n",
    "**Pandas** is an easy-to-use data structures and data analysis tools for the Python programming language. In Pandas, we can import data from various file formats like JSON, SQL, Microsoft Excel, etc. When working with tabular data, such as data stored in spreadsheets or databases, pandas will help you to explore, clean, and process your data. In pandas, a data table is called a **Data Frame**.\n",
    "\n",
    "Note: Pandas is built off of another library called **NumPy**. \n",
    "\n",
    "**Matplotlib** Matplotlib is a comprehensive library for creating static, animated, and interactive visualizations in Python. Matplotlib makes easy things easy and hard things possible.\n",
    "\n"
   ]
  },
  {
   "cell_type": "code",
   "execution_count": null,
   "metadata": {
    "id": "Eae_8ohv0aJX"
   },
   "outputs": [],
   "source": [
    "# Mount Google Drive \n",
    "\n",
    "from google.colab import drive\n",
    "drive.mount('/content/drive', force_remount=True)"
   ]
  },
  {
   "cell_type": "markdown",
   "metadata": {
    "id": "ycKPL_-z7vq_"
   },
   "source": [
    "# Install necessary libraries\n"
   ]
  },
  {
   "cell_type": "code",
   "execution_count": 1,
   "metadata": {
    "colab": {
     "base_uri": "https://localhost:8080/"
    },
    "id": "3_pygVA5QZ4s",
    "outputId": "0c7127e6-735d-4552-cb0c-9b130a752818"
   },
   "outputs": [
    {
     "name": "stdout",
     "output_type": "stream",
     "text": [
      "Looking in indexes: https://pypi.org/simple, https://us-python.pkg.dev/colab-wheels/public/simple/\n",
      "Requirement already satisfied: pandas in /usr/local/lib/python3.7/dist-packages (1.3.5)\n",
      "Requirement already satisfied: scipy in /usr/local/lib/python3.7/dist-packages (1.4.1)\n",
      "Requirement already satisfied: pytz>=2017.3 in /usr/local/lib/python3.7/dist-packages (from pandas) (2022.1)\n",
      "Requirement already satisfied: numpy>=1.17.3 in /usr/local/lib/python3.7/dist-packages (from pandas) (1.21.6)\n",
      "Requirement already satisfied: python-dateutil>=2.7.3 in /usr/local/lib/python3.7/dist-packages (from pandas) (2.8.2)\n",
      "Requirement already satisfied: six>=1.5 in /usr/local/lib/python3.7/dist-packages (from python-dateutil>=2.7.3->pandas) (1.15.0)\n"
     ]
    }
   ],
   "source": [
    "# Download python packages to your system using pip install\n",
    "import sys\n",
    "!{sys.executable} -m pip install pandas scipy requests"
   ]
  },
  {
   "cell_type": "markdown",
   "metadata": {
    "id": "VA_yoweeS4ua"
   },
   "source": [
    "Import the libraries we downloaded into the Python environment\n"
   ]
  },
  {
   "cell_type": "code",
   "execution_count": 2,
   "metadata": {
    "id": "vQYwjxv1QlY1"
   },
   "outputs": [],
   "source": [
    "# Useful for fetching data from the web \n",
    "\n",
    "import json\n",
    "import requests\n",
    "\n",
    "# PyData Libraries\n",
    "\n",
    "import scipy.io\n",
    "import pandas as pd\n",
    "import matplotlib.pyplot as plt\n",
    "\n",
    "# Library useful for rendering Images and suppressing warnings in Jupyter Notebooks\n",
    "\n",
    "from IPython.display import Image\n",
    "import warnings\n",
    "warnings.filterwarnings('ignore')"
   ]
  },
  {
   "cell_type": "markdown",
   "metadata": {
    "id": "rX6ZdFHGR8jr"
   },
   "source": [
    "# Define Helper Function"
   ]
  },
  {
   "cell_type": "code",
   "execution_count": 7,
   "metadata": {
    "id": "GSaECZpOLfkO"
   },
   "outputs": [],
   "source": [
    "def get_amplabs_data(cell_id):\n",
    "    url = \"https://www.app.amplabs.ai/download/cells/cycle_data_json?cell_id={}\".format(cell_id.replace('/', '%2F'))\n",
    "    user_token = \"<token>\"\n",
    "    headers = {\n",
    "    'Authorization': 'Bearer {}'.format(user_token),\n",
    "    }\n",
    "    try:\n",
    "        response = requests.request(\"GET\", url, headers=headers)\n",
    "        res =  json.loads(response.text)\n",
    "        response = requests.request(\"GET\",res[\"response_url\"])\n",
    "        response = gzip.decompress(response.content)\n",
    "        return json.loads(response.decode())\n",
    "    except requests.exceptions.RequestException as e:\n",
    "        print(e)\n",
    "    return None\n"
   ]
  },
  {
   "cell_type": "code",
   "execution_count": 10,
   "metadata": {
    "colab": {
     "base_uri": "https://localhost:8080/"
    },
    "id": "4qDHO5YsLknP",
    "outputId": "521af2b9-64a5-402c-d18b-631420eea9cb"
   },
   "outputs": [
    {
     "name": "stdout",
     "output_type": "stream",
     "text": [
      "<class 'pandas.core.frame.DataFrame'>\n",
      "RangeIndex: 512 entries, 0 to 511\n",
      "Data columns (total 49 columns):\n",
      " #   Column                               Non-Null Count  Dtype  \n",
      "---  ------                               --------------  -----  \n",
      " 0   charge_step_count                    0 non-null      object \n",
      " 1   cycle_charge_capacity                510 non-null    float64\n",
      " 2   cycle_charge_energy                  510 non-null    float64\n",
      " 3   cycle_coulombic_efficiency           510 non-null    float64\n",
      " 4   cycle_discharge_capacity             510 non-null    float64\n",
      " 5   cycle_discharge_energy               510 non-null    float64\n",
      " 6   cycle_duration                       512 non-null    float64\n",
      " 7   cycle_end_timestamp                  512 non-null    object \n",
      " 8   cycle_energy_efficiency              510 non-null    float64\n",
      " 9   cycle_index                          512 non-null    int64  \n",
      " 10  cycle_max_charge_power               510 non-null    float64\n",
      " 11  cycle_max_current                    512 non-null    float64\n",
      " 12  cycle_max_discharge_power            510 non-null    float64\n",
      " 13  cycle_max_power                      512 non-null    float64\n",
      " 14  cycle_max_rest_voltage               512 non-null    float64\n",
      " 15  cycle_max_voltage                    512 non-null    float64\n",
      " 16  cycle_mean_charge_power              510 non-null    float64\n",
      " 17  cycle_mean_charge_voltage            510 non-null    float64\n",
      " 18  cycle_mean_discharge_power           510 non-null    float64\n",
      " 19  cycle_mean_discharge_voltage         510 non-null    float64\n",
      " 20  cycle_mean_power                     512 non-null    float64\n",
      " 21  cycle_mean_voltage                   512 non-null    float64\n",
      " 22  cycle_min_charge_power               510 non-null    float64\n",
      " 23  cycle_min_current                    512 non-null    float64\n",
      " 24  cycle_min_discharge_power            510 non-null    float64\n",
      " 25  cycle_min_power                      512 non-null    float64\n",
      " 26  cycle_min_rest_voltage               512 non-null    float64\n",
      " 27  cycle_min_voltage                    512 non-null    float64\n",
      " 28  cycle_resistance_end_of_charge       512 non-null    float64\n",
      " 29  cycle_resistance_end_of_discharge    512 non-null    float64\n",
      " 30  cycle_resistance_start_of_charge     512 non-null    float64\n",
      " 31  cycle_resistance_start_of_discharge  512 non-null    float64\n",
      " 32  cycle_start_timestamp                512 non-null    object \n",
      " 33  cycle_time                           0 non-null      object \n",
      " 34  cycle_total_rest_time                512 non-null    float64\n",
      " 35  cycle_voltage_efficiency             0 non-null      object \n",
      " 36  datapoint_count                      512 non-null    int64  \n",
      " 37  discharge_step_count                 0 non-null      object \n",
      " 38  dt_end_of_charge                     512 non-null    float64\n",
      " 39  dt_end_of_discharge                  512 non-null    float64\n",
      " 40  dt_start_of_charge                   512 non-null    float64\n",
      " 41  dt_start_of_discharge                512 non-null    float64\n",
      " 42  dv_end_of_charge                     512 non-null    float64\n",
      " 43  dv_end_of_discharge                  512 non-null    float64\n",
      " 44  dv_start_of_charge                   512 non-null    float64\n",
      " 45  dv_start_of_discharge                512 non-null    float64\n",
      " 46  rest_step_count                      0 non-null      object \n",
      " 47  step_count                           0 non-null      object \n",
      " 48  test_time                            512 non-null    float64\n",
      "dtypes: float64(39), int64(2), object(8)\n",
      "memory usage: 196.1+ KB\n",
      "Process complete None\n"
     ]
    }
   ],
   "source": [
    "#Fetch Data from Amplabs API\n",
    "cell_id = \"SNL_18650_LFP_25C_0-100_0.5/1C_a\"\n",
    "response = get_amplabs_data(cell_id)\n",
    "\n",
    "df_cell = pd.DataFrame(response['records'][0])\n",
    "\n",
    "print(\"Process complete\", df_cell.info())"
   ]
  },
  {
   "cell_type": "code",
   "execution_count": null,
   "metadata": {
    "id": "F0m_n-INb1IV"
   },
   "outputs": [],
   "source": [
    "file_name = '/content/drive/MyDrive/MRS/Gr-LFP_127662duty.mat'\n",
    "\n",
    "# import data from the Matlab .mat file\n",
    "# scipy converts the mat struct in a Python struct\n",
    "data_scipy = scipy.io.loadmat(file_name)\n",
    "data_scipy.keys()"
   ]
  },
  {
   "cell_type": "code",
   "execution_count": null,
   "metadata": {
    "colab": {
     "base_uri": "https://localhost:8080/"
    },
    "id": "pTqc0Lw4GZzv",
    "outputId": "9b274bd3-26c8-4d7d-c88a-c044eada6b56"
   },
   "outputs": [
    {
     "name": "stdout",
     "output_type": "stream",
     "text": [
      "__header__ <class 'bytes'>\n",
      "__version__ <class 'str'>\n",
      "__globals__ <class 'list'>\n",
      "LAMNEeq <class 'numpy.ndarray'>\n",
      "LAMPEeq <class 'numpy.ndarray'>\n",
      "LLIeq <class 'numpy.ndarray'>\n",
      "QL <class 'numpy.ndarray'>\n",
      "Vi <class 'numpy.ndarray'>\n",
      "cyc <class 'numpy.ndarray'>\n",
      "key <class 'numpy.ndarray'>\n",
      "p1 <class 'numpy.ndarray'>\n",
      "p2 <class 'numpy.ndarray'>\n",
      "p3 <class 'numpy.ndarray'>\n",
      "p4 <class 'numpy.ndarray'>\n",
      "p5 <class 'numpy.ndarray'>\n",
      "p6 <class 'numpy.ndarray'>\n",
      "p7 <class 'numpy.ndarray'>\n",
      "p8 <class 'numpy.ndarray'>\n"
     ]
    }
   ],
   "source": [
    "for key in data_scipy:\n",
    "  print(key, type(data_scipy[key]))"
   ]
  },
  {
   "cell_type": "code",
   "execution_count": 11,
   "metadata": {
    "colab": {
     "base_uri": "https://localhost:8080/",
     "height": 282
    },
    "id": "7HMOt5v1e-iS",
    "outputId": "2b4bd4a3-1407-41f9-bffb-a2f5abd1693f"
   },
   "outputs": [
    {
     "data": {
      "text/plain": [
       "[<matplotlib.lines.Line2D at 0x7fa008d914d0>]"
      ]
     },
     "execution_count": 8,
     "metadata": {},
     "output_type": "execute_result"
    },
    {
     "data": {
      "image/png": "[encoded data removed]",
      "text/plain": [
       "<Figure size 432x288 with 1 Axes>"
      ]
     },
     "metadata": {
      "needs_background": "light"
     },
     "output_type": "display_data"
    }
   ],
   "source": [
    "# Calculate the normalized capacity\n",
    "# Ensure that the data is converted to numeric values\n",
    "df_cell['cycle_discharge_capacity'] = pd.to_numeric(df_cell['cycle_discharge_capacity'])\n",
    "\n",
    "# Normalize the capacity using the initial cell capacity\n",
    "df_cell['Ah_loss'] = 100.0*(df_cell['cycle_discharge_capacity'])/df_cell['cycle_discharge_capacity'].iloc[0]\n",
    "\n",
    "# Switch from capacity loss to capacity remaining\n",
    "QL = 100.0 - data_scipy['QL']\n",
    "\n",
    "# Import the degradation components\n",
    "LAMNEeq = data_scipy['LAMNEeq']\n",
    "LAMPEeq = data_scipy['LAMPEeq']\n",
    "LLIeq = data_scipy['LLIeq']\n",
    "cyc = data_scipy['cyc']\n",
    "\n",
    "#Experimental data start from 1, not 0. We are assuming cycle 1 of the experiments is equivalent to cycle 0 of the synthetic data\n",
    "cyc[0, 0] = 1\n",
    "\n",
    "# filter cell data by the cycles available in the Matlab database\n",
    "df_cell_ah_loss = df_cell[df_cell.cycle_index.isin(cyc[0])]\n",
    "\n",
    "# move to arrays to calculate min squared error\n",
    "Ah_loss = df_cell_ah_loss['Ah_loss'].to_numpy()\n",
    "\n",
    "# Calculate all the residuals -- this is how to work directly with arrays elements\n",
    "\n",
    "delta = []\n",
    "\n",
    "j = 0\n",
    "\n",
    "for x in QL:\n",
    "\n",
    "    i = 0\n",
    "    delta_v = 0\n",
    "\n",
    "    for k in x:\n",
    "        delta_v += (k-Ah_loss[i])**2\n",
    "        i += 1\n",
    "\n",
    "    delta.append(delta_v)\n",
    "\n",
    "# Plot the residuals\n",
    "plt.plot(delta)"
   ]
  },
  {
   "cell_type": "code",
   "execution_count": null,
   "metadata": {
    "colab": {
     "base_uri": "https://localhost:8080/",
     "height": 296
    },
    "id": "3HuhI2etbuf6",
    "outputId": "e111123d-2f7d-40b1-ed78-00a2a51db7a2"
   },
   "outputs": [
    {
     "data": {
      "image/png": "[encoded data removed]",
      "text/plain": [
       "<Figure size 432x288 with 1 Axes>"
      ]
     },
     "metadata": {
      "needs_background": "light"
     },
     "output_type": "display_data"
    }
   ],
   "source": [
    "# find the minimum error and the corresponding index\n",
    "min_value = min(delta)\n",
    "min_index = delta.index(min_value)\n",
    "\n",
    "# Collect all the info in one dataframe\n",
    "df_cell_ah_loss['LLIeq'] = LLIeq[min_index].transpose()\n",
    "df_cell_ah_loss['LAMNEeq'] = LAMNEeq[min_index].transpose()\n",
    "df_cell_ah_loss['LAMPEeq'] = LAMPEeq[min_index].transpose()\n",
    "df_cell_ah_loss['Sy_opt'] = QL[min_index].transpose()\n",
    "\n",
    "\n",
    "# Plot synthetic and experimental data\n",
    "df_cell_ah_loss.plot(x='cycle_index', y=[\"Ah_loss\", \"Sy_opt\", \"LLIeq\", \"LAMNEeq\", \"LAMPEeq\"], marker=\"o\")\n",
    "plt.title('Synthetic and experimental data. Row: ' + str(min_index))\n",
    "plt.xlabel('Cycle_Index')\n",
    "plt.ylim([0, 200])\n",
    "plt.legend()\n",
    "plt.show()"
   ]
  }
 ],
 "metadata": {
  "colab": {
   "collapsed_sections": [],
   "include_colab_link": true,
   "name": "MRS - Sandia AmpLabs Example 3",
   "provenance": []
  },
  "kernelspec": {
   "display_name": "Python 3",
   "language": "python",
   "name": "python3"
  },
  "language_info": {
   "codemirror_mode": {
    "name": "ipython",
    "version": 3
   },
   "file_extension": ".py",
   "mimetype": "text/x-python",
   "name": "python",
   "nbconvert_exporter": "python",
   "pygments_lexer": "ipython3",
   "version": "3.6.5"
  },
  "vscode": {
   "interpreter": {
    "hash": "31f2aee4e71d21fbe5cf8b01ff0e069b9275f58929596ceb00d14d90e3e16cd6"
   }
  }
 },
 "nbformat": 4,
 "nbformat_minor": 1
}
