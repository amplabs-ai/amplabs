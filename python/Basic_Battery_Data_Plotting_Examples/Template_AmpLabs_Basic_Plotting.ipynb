{
 "cells": [
  {
   "cell_type": "markdown",
   "metadata": {},
   "source": [
    "# Enter Your User Token And Cell ID"
   ]
  },
  {
   "cell_type": "code",
   "execution_count": 1,
   "metadata": {},
   "outputs": [
    {
     "name": "stdout",
     "output_type": "stream",
     "text": [
      "Enter your Amplabs user token: user_token\n",
      "Enter your Amplabs cell ID: cell_id\n"
     ]
    }
   ],
   "source": [
    "user_token = \"\"\n",
    "# Input your Amplabs user token inside the quotation mark, or type your user token after executing this block of code\n",
    "\n",
    "cell_id = \"\" \n",
    "# Input your Amplabs cell ID inside the quotation mark, or type your cell ID after executing this block of code\n",
    "\n",
    "\n",
    "if user_token.strip(): \n",
    "    pass \n",
    "else: \n",
    "    user_token=input(\"Enter your Amplabs user token: \")\n",
    "\n",
    "\n",
    "if cell_id.strip(): \n",
    "    pass \n",
    "else: \n",
    "    cell_id=input(\"Enter your Amplabs cell ID: \")"
   ]
  },
  {
   "cell_type": "markdown",
   "metadata": {
    "id": "lyBgUeVKft9w"
   },
   "source": [
    "# AmpLabs Example\n"
   ]
  },
  {
   "cell_type": "markdown",
   "metadata": {
    "id": "3PyEXm9ZhoT9"
   },
   "source": [
    "\n",
    "\n",
    "\n",
    "In this demo you will learn how to:\n",
    "\n",
    "1. Upload/Download various types of battery data from **AmpLabs JSON API**\n",
    "2. Perform simple filtering on battery data\n",
    "\n",
    "**Pandas** is an easy-to-use data structures and data analysis tools for the Python programming language. In Pandas, we can import data from various file formats like JSON, SQL, Microsoft Excel, etc. When working with tabular data, such as data stored in spreadsheets or databases, pandas will help you to explore, clean, and process your data. In pandas, a data table is called a **Data Frame**.\n",
    "\n",
    "Note: Pandas is built off of another library called **NumPy**. \n"
   ]
  },
  {
   "cell_type": "markdown",
   "metadata": {
    "id": "AnfdHtgbhzfP"
   },
   "source": [
    "# Key Terms\n",
    "\n",
    "**API** Application Programming Interface is a set of definitions and protocols for building and integrating application software. AmpLabs provides an API to help you access and control your data.\n",
    "\n",
    "**JavaScript Object Notation** is a lightweight data-interchange format. It is easy for humans to read and write. It is easy for machines to parse and generate. Win/Win\n",
    "\n",
    "[JSON](https://www.json.org/json-en.html) is commonly used as an output format from websites. AmpLabs provides a JSON API for your Battery Data. Records for your battery data look like the following: \n",
    "\n",
    "``` JSON\n",
    "{\n",
    "  \"detail\": \"Records Retrieved\", \n",
    "  \"records\": [\n",
    "    {\n",
    "      \"Charge_Capacity (Ah)\": 2.563, \n",
    "      \"Charge_Energy (Wh)\": 10.029, \n",
    "      \"Cycle_Index\": 1, \n",
    "      \"Discharge_Capacity (Ah)\": 2.709, \n",
    "      \"Discharge_Energy (Wh)\": 9.424, \n",
    "      \"End_Time\": null, \n",
    "      \"Max_Current (A)\": 1.496, \n",
    "      \"Max_Voltage (V)\": 4.2, \n",
    "      \"Min_Current (A)\": -1.503, \n",
    "      \"Min_Voltage (V)\": 1.999, \n",
    "      \"Start_Time\": null, \n",
    "      \"Test_Time (s)\": 14644.703\n",
    "    },\n",
    "    \"status\": 200\n",
    "}\n",
    "```\n",
    "\n",
    "**Data Frame**. A DataFrame is a 2-dimensional labeled data structure with columns of potentially different types. You can think of it like a spreadsheet or SQL table, or a dict of Series objects. It is generally the most commonly used pandas object. Like Series, DataFrame accepts many different kinds of input:\n",
    "[Dataframe](https://pandas.pydata.org/docs/reference/api/pandas.DataFrame.html)\n",
    "\n",
    "\n",
    "\n",
    "``` Python\n",
    "d = {'col1': [1, 2], 'col2': [3, 4]}\n",
    "df = pd.DataFrame(data=d)\n",
    "```"
   ]
  },
  {
   "cell_type": "code",
   "execution_count": 2,
   "metadata": {
    "colab": {
     "base_uri": "https://localhost:8080/"
    },
    "id": "VHdXBt4yWO_c",
    "outputId": "f5b4b0a3-059b-486d-d8d6-a62c796f4fd2"
   },
   "outputs": [
    {
     "name": "stdout",
     "output_type": "stream",
     "text": [
      "Requirement already satisfied: pandas in c:\\users\\huang\\appdata\\local\\programs\\python\\python39\\lib\\site-packages (1.3.3)\n",
      "Requirement already satisfied: matplotlib in c:\\users\\huang\\appdata\\local\\programs\\python\\python39\\lib\\site-packages (3.4.3)\n",
      "Requirement already satisfied: seaborn in c:\\users\\huang\\appdata\\local\\programs\\python\\python39\\lib\\site-packages (0.11.2)\n",
      "Requirement already satisfied: python-dateutil>=2.7.3 in c:\\users\\huang\\appdata\\local\\programs\\python\\python39\\lib\\site-packages (from pandas) (2.8.2)\n",
      "Requirement already satisfied: pytz>=2017.3 in c:\\users\\huang\\appdata\\local\\programs\\python\\python39\\lib\\site-packages (from pandas) (2021.1)\n",
      "Requirement already satisfied: numpy>=1.17.3 in c:\\users\\huang\\appdata\\local\\programs\\python\\python39\\lib\\site-packages (from pandas) (1.21.2)\n",
      "Requirement already satisfied: pillow>=6.2.0 in c:\\users\\huang\\appdata\\local\\programs\\python\\python39\\lib\\site-packages (from matplotlib) (8.3.2)\n",
      "Requirement already satisfied: kiwisolver>=1.0.1 in c:\\users\\huang\\appdata\\local\\programs\\python\\python39\\lib\\site-packages (from matplotlib) (1.3.2)\n",
      "Requirement already satisfied: cycler>=0.10 in c:\\users\\huang\\appdata\\local\\programs\\python\\python39\\lib\\site-packages (from matplotlib) (0.10.0)\n",
      "Requirement already satisfied: pyparsing>=2.2.1 in c:\\users\\huang\\appdata\\local\\programs\\python\\python39\\lib\\site-packages (from matplotlib) (2.4.7)\n",
      "Requirement already satisfied: scipy>=1.0 in c:\\users\\huang\\appdata\\local\\programs\\python\\python39\\lib\\site-packages (from seaborn) (1.7.1)\n",
      "Requirement already satisfied: six in c:\\users\\huang\\appdata\\local\\programs\\python\\python39\\lib\\site-packages (from cycler>=0.10->matplotlib) (1.16.0)\n"
     ]
    },
    {
     "name": "stderr",
     "output_type": "stream",
     "text": [
      "WARNING: You are using pip version 22.0.4; however, version 23.0.1 is available.\n",
      "You should consider upgrading via the 'c:\\users\\huang\\appdata\\local\\programs\\python\\python39\\python.exe -m pip install --upgrade pip' command.\n"
     ]
    }
   ],
   "source": [
    "import sys\n",
    "!{sys.executable} -m pip install pandas matplotlib seaborn"
   ]
  },
  {
   "cell_type": "markdown",
   "metadata": {
    "id": "P2qQBN--CsAJ"
   },
   "source": [
    "Import the libraries we downloaded into the Python environment"
   ]
  },
  {
   "cell_type": "code",
   "execution_count": 3,
   "metadata": {
    "id": "sVmR6GDcim-p"
   },
   "outputs": [],
   "source": [
    "# Useful for fetching data from the web \n",
    "\n",
    "import json\n",
    "import urllib.error\n",
    "import urllib.request\n",
    "from urllib.parse import urlencode\n",
    "import requests\n",
    "import gzip\n",
    "import json\n",
    "from fileinput import filename\n",
    "import shutil\n",
    "import time\n",
    "import matplotlib.pyplot as plt\n",
    "import seaborn as sns\n",
    "\n",
    "# PyData Libraries\n",
    "\n",
    "import pandas as pd\n",
    "import numpy as np"
   ]
  },
  {
   "cell_type": "markdown",
   "metadata": {
    "id": "NhHMF-Qqjn2H"
   },
   "source": [
    "# Define Helper Functions\n",
    "\n",
    "The following section defines functions that will help us **read** data from and **write** data to the AmpLabs JSON API. \n",
    "\n"
   ]
  },
  {
   "cell_type": "markdown",
   "metadata": {
    "id": "MvKGdG_0e1Gc"
   },
   "source": [
    "### Functions to help Upload Data to AmpLabs\n",
    "\n",
    "\n"
   ]
  },
  {
   "cell_type": "code",
   "execution_count": 4,
   "metadata": {
    "id": "dTr5wTzwWDSf"
   },
   "outputs": [],
   "source": [
    "# Function used to fetch cycle data from AmpLabs\n",
    "def get_amplabs_cycledata(user_token, cell_id):\n",
    "    url = \"http://www.app.amplabs.ai/download/cells/cycle_data_json?cell_id={}\".format(cell_id.replace('/','%2F'))\n",
    "    httprequest = urllib.request.Request( url, method=\"GET\")\n",
    "    httprequest.add_header(\"Authorization\", \"Bearer {}\".format(user_token))\n",
    "    try:\n",
    "        with urllib.request.urlopen(httprequest) as httpresponse:\n",
    "            res = json.loads(httpresponse.read())\n",
    "            with urllib.request.urlopen(urllib.request.Request(res[\"response_url\"],method=\"GET\")) as response:\n",
    "                response = gzip.decompress(response.read())\n",
    "                return json.loads(response.decode()), 1\n",
    "    except urllib.error.HTTPError as e:\n",
    "        print(e)\n",
    "    return None, 0\n",
    "\n",
    "# Function used to fetch timeseries data from AmpLabs\n",
    "def get_amplabs_timeseriesdata(user_token, cell_id):\n",
    "    url = \"http://www.app.amplabs.ai/download/cells/cycle_timeseries_json?cell_id={}\".format(cell_id.replace('/','%2F'))\n",
    "    httprequest = urllib.request.Request(\n",
    "            url, method=\"GET\"\n",
    "        )\n",
    "    httprequest.add_header(\"Authorization\", \"Bearer {}\".format(user_token))\n",
    "\n",
    "    try:\n",
    "        with urllib.request.urlopen(httprequest) as httpresponse:\n",
    "            res = json.loads(httpresponse.read())\n",
    "            with urllib.request.urlopen(urllib.request.Request(res[\"response_url\"],method=\"GET\")) as response:\n",
    "                response = gzip.decompress(response.read())\n",
    "                return json.loads(response.decode()) , 1\n",
    "    except urllib.error.HTTPError as e:\n",
    "        print(e)\n",
    "    return None, 0\n",
    "\n",
    "\n",
    "# Function used to fetch test meta data from AmpLabs\n",
    "def get_amplabs_meta(user_token, cell_id):\n",
    "    url = 'https://www.app.amplabs.ai/cells/tests/cycle/metaWithId?cell_id={}'.format(cell_id.replace('/','%2F'))\n",
    "    print(url)\n",
    "    httprequest = urllib.request.Request( url, method=\"GET\")\n",
    "    httprequest.add_header(\"Authorization\", \"Bearer {}\".format(user_token))\n",
    "    try:\n",
    "        with urllib.request.urlopen(httprequest) as httpresponse:\n",
    "            response = json.loads(httpresponse.read())\n",
    "            return response, 1\n",
    "    except urllib.error.HTTPError as e:\n",
    "        print(e)\n",
    "    return None, 0\n"
   ]
  },
  {
   "cell_type": "markdown",
   "metadata": {
    "id": "e09060C2iTCm"
   },
   "source": [
    "**Check your understanding**\n",
    "1. What is JSON? \n",
    "\n",
    "2. Is JSON machine readable?\n",
    "\n",
    "3. What is a GET Request?"
   ]
  },
  {
   "cell_type": "markdown",
   "metadata": {},
   "source": [
    "# Get Amplabs Metadada"
   ]
  },
  {
   "cell_type": "code",
   "execution_count": 5,
   "metadata": {
    "colab": {
     "base_uri": "https://localhost:8080/"
    },
    "id": "ZOcQqd1nha1O",
    "outputId": "a4f7ee72-88c4-4c2d-aeac-f574f1d0ae09"
   },
   "outputs": [
    {
     "name": "stdout",
     "output_type": "stream",
     "text": [
      "https://www.amplabs.ai/cells/tests/cycle/metaWithId?cell_id=cell_id\n"
     ]
    },
    {
     "data": {
      "text/plain": [
       "({'detail': 'Records Retrieved', 'records': [[]], 'status': 200}, 1)"
      ]
     },
     "execution_count": 5,
     "metadata": {},
     "output_type": "execute_result"
    }
   ],
   "source": [
    "get_amplabs_meta(user_token, cell_id)"
   ]
  },
  {
   "cell_type": "markdown",
   "metadata": {
    "id": "GuzIa7zDPdII"
   },
   "source": [
    "# Get Amplabs Timeseries Data\n",
    "\n",
    "Timeseries data shows the data of a full battery test.  A full battery test typically spans a few months and have around a thousand charge and discharge cycles. The timeseries data has \"time\" in the x-axis and various properties of the **state of the battery** such as \"voltage,\" \"power,\" or \"current\" as the y-axis."
   ]
  },
  {
   "cell_type": "code",
   "execution_count": 6,
   "metadata": {
    "colab": {
     "base_uri": "https://localhost:8080/",
     "height": 343
    },
    "id": "sOc0VKirpTOk",
    "outputId": "28b14a57-b5e6-4907-c807-07f7594a9b08"
   },
   "outputs": [],
   "source": [
    "response, status = get_amplabs_timeseriesdata(user_token, cell_id)\n",
    "df = pd.DataFrame(response['records'][0])\n",
    "df[\"pandas_dataframe_index\"]=df.index"
   ]
  },
  {
   "cell_type": "code",
   "execution_count": 7,
   "metadata": {},
   "outputs": [
    {
     "name": "stdout",
     "output_type": "stream",
     "text": [
      "<class 'pandas.core.frame.DataFrame'>\n",
      "Index: 0 entries\n",
      "Data columns (total 1 columns):\n",
      " #   Column                  Non-Null Count  Dtype \n",
      "---  ------                  --------------  ----- \n",
      " 0   pandas_dataframe_index  0 non-null      object\n",
      "dtypes: object(1)\n",
      "memory usage: 0.0+ bytes\n",
      "None\n"
     ]
    }
   ],
   "source": [
    "print(df.info())"
   ]
  },
  {
   "cell_type": "markdown",
   "metadata": {},
   "source": [
    "### Define the x-axis, y-axis, and data point limit below, using the column names above"
   ]
  },
  {
   "cell_type": "code",
   "execution_count": 8,
   "metadata": {},
   "outputs": [],
   "source": [
    "timeseries_number_of_data_points_limit=100\n",
    "timeseries_data_x_axis=\"pandas_dataframe_index\"\n",
    "timeseries_data_y_axis=\"datapoint_dtemp\""
   ]
  },
  {
   "cell_type": "code",
   "execution_count": 9,
   "metadata": {},
   "outputs": [
    {
     "ename": "KeyError",
     "evalue": "'datapoint_dtemp'",
     "output_type": "error",
     "traceback": [
      "\u001b[1;31m---------------------------------------------------------------------------\u001b[0m",
      "\u001b[1;31mKeyError\u001b[0m                                  Traceback (most recent call last)",
      "File \u001b[1;32mc:\\users\\huang\\appdata\\local\\programs\\python\\python39\\lib\\site-packages\\pandas\\core\\indexes\\base.py:3361\u001b[0m, in \u001b[0;36mIndex.get_loc\u001b[1;34m(self, key, method, tolerance)\u001b[0m\n\u001b[0;32m   3360\u001b[0m \u001b[38;5;28;01mtry\u001b[39;00m:\n\u001b[1;32m-> 3361\u001b[0m     \u001b[38;5;28;01mreturn\u001b[39;00m \u001b[38;5;28;43mself\u001b[39;49m\u001b[38;5;241;43m.\u001b[39;49m\u001b[43m_engine\u001b[49m\u001b[38;5;241;43m.\u001b[39;49m\u001b[43mget_loc\u001b[49m\u001b[43m(\u001b[49m\u001b[43mcasted_key\u001b[49m\u001b[43m)\u001b[49m\n\u001b[0;32m   3362\u001b[0m \u001b[38;5;28;01mexcept\u001b[39;00m \u001b[38;5;167;01mKeyError\u001b[39;00m \u001b[38;5;28;01mas\u001b[39;00m err:\n",
      "File \u001b[1;32mc:\\users\\huang\\appdata\\local\\programs\\python\\python39\\lib\\site-packages\\pandas\\_libs\\index.pyx:76\u001b[0m, in \u001b[0;36mpandas._libs.index.IndexEngine.get_loc\u001b[1;34m()\u001b[0m\n",
      "File \u001b[1;32mc:\\users\\huang\\appdata\\local\\programs\\python\\python39\\lib\\site-packages\\pandas\\_libs\\index.pyx:108\u001b[0m, in \u001b[0;36mpandas._libs.index.IndexEngine.get_loc\u001b[1;34m()\u001b[0m\n",
      "File \u001b[1;32mpandas\\_libs\\hashtable_class_helper.pxi:5198\u001b[0m, in \u001b[0;36mpandas._libs.hashtable.PyObjectHashTable.get_item\u001b[1;34m()\u001b[0m\n",
      "File \u001b[1;32mpandas\\_libs\\hashtable_class_helper.pxi:5206\u001b[0m, in \u001b[0;36mpandas._libs.hashtable.PyObjectHashTable.get_item\u001b[1;34m()\u001b[0m\n",
      "\u001b[1;31mKeyError\u001b[0m: 'datapoint_dtemp'",
      "\nThe above exception was the direct cause of the following exception:\n",
      "\u001b[1;31mKeyError\u001b[0m                                  Traceback (most recent call last)",
      "Cell \u001b[1;32mIn [9], line 3\u001b[0m\n\u001b[0;32m      1\u001b[0m fig,ax\u001b[38;5;241m=\u001b[39mplt\u001b[38;5;241m.\u001b[39msubplots(nrows\u001b[38;5;241m=\u001b[39m\u001b[38;5;241m1\u001b[39m,ncols\u001b[38;5;241m=\u001b[39m\u001b[38;5;241m1\u001b[39m,figsize\u001b[38;5;241m=\u001b[39m(\u001b[38;5;241m18\u001b[39m,\u001b[38;5;241m9\u001b[39m))\n\u001b[1;32m----> 3\u001b[0m ax\u001b[38;5;241m.\u001b[39mplot(df[timeseries_data_x_axis]\u001b[38;5;241m.\u001b[39miloc[\u001b[38;5;241m0\u001b[39m:timeseries_number_of_data_points_limit],\u001b[43mdf\u001b[49m\u001b[43m[\u001b[49m\u001b[43mtimeseries_data_y_axis\u001b[49m\u001b[43m]\u001b[49m\u001b[38;5;241m.\u001b[39miloc[\u001b[38;5;241m0\u001b[39m:timeseries_number_of_data_points_limit],label\u001b[38;5;241m=\u001b[39m\u001b[38;5;124mf\u001b[39m\u001b[38;5;124m\"\u001b[39m\u001b[38;5;132;01m{\u001b[39;00mtimeseries_data_y_axis\u001b[38;5;132;01m}\u001b[39;00m\u001b[38;5;124m\"\u001b[39m,color\u001b[38;5;241m=\u001b[39m\u001b[38;5;124m\"\u001b[39m\u001b[38;5;124mblue\u001b[39m\u001b[38;5;124m\"\u001b[39m)\n\u001b[0;32m      5\u001b[0m ax\u001b[38;5;241m.\u001b[39mlegend(fontsize\u001b[38;5;241m=\u001b[39m\u001b[38;5;241m13\u001b[39m)\n\u001b[0;32m      6\u001b[0m ax\u001b[38;5;241m.\u001b[39mset_title(\u001b[38;5;124mf\u001b[39m\u001b[38;5;124m'\u001b[39m\u001b[38;5;124mAmplabs Timeseries Data\u001b[39m\u001b[38;5;124m'\u001b[39m,fontsize\u001b[38;5;241m=\u001b[39m\u001b[38;5;241m18\u001b[39m)\n",
      "File \u001b[1;32mc:\\users\\huang\\appdata\\local\\programs\\python\\python39\\lib\\site-packages\\pandas\\core\\frame.py:3458\u001b[0m, in \u001b[0;36mDataFrame.__getitem__\u001b[1;34m(self, key)\u001b[0m\n\u001b[0;32m   3456\u001b[0m \u001b[38;5;28;01mif\u001b[39;00m \u001b[38;5;28mself\u001b[39m\u001b[38;5;241m.\u001b[39mcolumns\u001b[38;5;241m.\u001b[39mnlevels \u001b[38;5;241m>\u001b[39m \u001b[38;5;241m1\u001b[39m:\n\u001b[0;32m   3457\u001b[0m     \u001b[38;5;28;01mreturn\u001b[39;00m \u001b[38;5;28mself\u001b[39m\u001b[38;5;241m.\u001b[39m_getitem_multilevel(key)\n\u001b[1;32m-> 3458\u001b[0m indexer \u001b[38;5;241m=\u001b[39m \u001b[38;5;28;43mself\u001b[39;49m\u001b[38;5;241;43m.\u001b[39;49m\u001b[43mcolumns\u001b[49m\u001b[38;5;241;43m.\u001b[39;49m\u001b[43mget_loc\u001b[49m\u001b[43m(\u001b[49m\u001b[43mkey\u001b[49m\u001b[43m)\u001b[49m\n\u001b[0;32m   3459\u001b[0m \u001b[38;5;28;01mif\u001b[39;00m is_integer(indexer):\n\u001b[0;32m   3460\u001b[0m     indexer \u001b[38;5;241m=\u001b[39m [indexer]\n",
      "File \u001b[1;32mc:\\users\\huang\\appdata\\local\\programs\\python\\python39\\lib\\site-packages\\pandas\\core\\indexes\\base.py:3363\u001b[0m, in \u001b[0;36mIndex.get_loc\u001b[1;34m(self, key, method, tolerance)\u001b[0m\n\u001b[0;32m   3361\u001b[0m         \u001b[38;5;28;01mreturn\u001b[39;00m \u001b[38;5;28mself\u001b[39m\u001b[38;5;241m.\u001b[39m_engine\u001b[38;5;241m.\u001b[39mget_loc(casted_key)\n\u001b[0;32m   3362\u001b[0m     \u001b[38;5;28;01mexcept\u001b[39;00m \u001b[38;5;167;01mKeyError\u001b[39;00m \u001b[38;5;28;01mas\u001b[39;00m err:\n\u001b[1;32m-> 3363\u001b[0m         \u001b[38;5;28;01mraise\u001b[39;00m \u001b[38;5;167;01mKeyError\u001b[39;00m(key) \u001b[38;5;28;01mfrom\u001b[39;00m \u001b[38;5;21;01merr\u001b[39;00m\n\u001b[0;32m   3365\u001b[0m \u001b[38;5;28;01mif\u001b[39;00m is_scalar(key) \u001b[38;5;129;01mand\u001b[39;00m isna(key) \u001b[38;5;129;01mand\u001b[39;00m \u001b[38;5;129;01mnot\u001b[39;00m \u001b[38;5;28mself\u001b[39m\u001b[38;5;241m.\u001b[39mhasnans:\n\u001b[0;32m   3366\u001b[0m     \u001b[38;5;28;01mraise\u001b[39;00m \u001b[38;5;167;01mKeyError\u001b[39;00m(key)\n",
      "\u001b[1;31mKeyError\u001b[0m: 'datapoint_dtemp'"
     ]
    },
    {
     "data": {
      "image/png": "[encoded data removed]",
      "text/plain": [
       "<Figure size 1800x900 with 1 Axes>"
      ]
     },
     "metadata": {},
     "output_type": "display_data"
    }
   ],
   "source": [
    "fig,ax=plt.subplots(nrows=1,ncols=1,figsize=(18,9))\n",
    "\n",
    "ax.plot(df[timeseries_data_x_axis].iloc[0:timeseries_number_of_data_points_limit],df[timeseries_data_y_axis].iloc[0:timeseries_number_of_data_points_limit],label=f\"{timeseries_data_y_axis}\",color=\"blue\")\n",
    "\n",
    "ax.legend(fontsize=13)\n",
    "ax.set_title(f'Amplabs Timeseries Data',fontsize=18)\n",
    "ax.set_xlabel(f\"{timeseries_data_x_axis}\",fontsize=18)\n",
    "ax.set_ylabel(f\"{timeseries_data_y_axis}\",fontsize=18)"
   ]
  },
  {
   "cell_type": "markdown",
   "metadata": {},
   "source": [
    "# Get Amplabs Cycle Data\n",
    "\n",
    "The Amplabs cycle data draws from the same full battery test as the timeseries data does. However, the cycle data has \"cycle index number\" as the x-axis and various properties of **one complete battery cycle** such as \"cycle duration\" or \"cycle charge capacity\" as the y-axis."
   ]
  },
  {
   "cell_type": "code",
   "execution_count": null,
   "metadata": {},
   "outputs": [],
   "source": [
    "response, status = get_amplabs_cycledata(user_token, cell_id)\n",
    "df_cycle = pd.DataFrame(response['records'][0])\n",
    "df_cycle[\"pandas_dataframe_index\"]=df_cycle.index"
   ]
  },
  {
   "cell_type": "code",
   "execution_count": null,
   "metadata": {},
   "outputs": [],
   "source": [
    "print(df_cycle.info())"
   ]
  },
  {
   "cell_type": "markdown",
   "metadata": {},
   "source": [
    "### Define the x-axis, y-axis, and data point limit below, using the column names above"
   ]
  },
  {
   "cell_type": "code",
   "execution_count": null,
   "metadata": {},
   "outputs": [],
   "source": [
    "cycle_number_of_data_points_limit=1000\n",
    "cycle_data_x_axis=\"pandas_dataframe_index\"\n",
    "cycle_data_y_axis=\"cycle_energy_efficiency\""
   ]
  },
  {
   "cell_type": "code",
   "execution_count": null,
   "metadata": {},
   "outputs": [],
   "source": [
    "fig,ax=plt.subplots(nrows=1,ncols=1,figsize=(18,9))\n",
    "\n",
    "ax.plot(df_cycle[cycle_data_x_axis].iloc[0:cycle_number_of_data_points_limit],df_cycle[cycle_data_y_axis].iloc[0:cycle_number_of_data_points_limit],label=f\"{cycle_data_y_axis}\",color=\"blue\")\n",
    "\n",
    "ax.legend(fontsize=13)\n",
    "ax.set_title(f'Amplabs Cycle Data',fontsize=18)\n",
    "ax.set_xlabel(f\"{cycle_data_x_axis}\",fontsize=18)\n",
    "ax.set_ylabel(f\"{cycle_data_y_axis}\",fontsize=18)"
   ]
  }
 ],
 "metadata": {
  "colab": {
   "collapsed_sections": [],
   "include_colab_link": true,
   "name": "AmpLabs Example - Basic Plotting",
   "provenance": []
  },
  "kernelspec": {
   "display_name": "Python 3 (ipykernel)",
   "language": "python",
   "name": "python3"
  },
  "language_info": {
   "codemirror_mode": {
    "name": "ipython",
    "version": 3
   },
   "file_extension": ".py",
   "mimetype": "text/x-python",
   "name": "python",
   "nbconvert_exporter": "python",
   "pygments_lexer": "ipython3",
   "version": "3.9.4"
  },
  "vscode": {
   "interpreter": {
    "hash": "f15ee80a1d5906d04f59d9a7661ecbbc0be3388b30cae8281f7fd68e1341d520"
   }
  }
 },
 "nbformat": 4,
 "nbformat_minor": 1
}
