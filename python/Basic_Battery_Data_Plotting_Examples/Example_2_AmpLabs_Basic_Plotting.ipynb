{
 "cells": [
  {
   "cell_type": "markdown",
   "metadata": {
    "colab_type": "text",
    "id": "view-in-github"
   },
   "source": [
    "<a href=\"https://colab.research.google.com/github/amplabs-ai/amplabs/blob/main/python/AmpLabs_Example_Basic_Plotting.ipynb\" target=\"_parent\"><img src=\"https://colab.research.google.com/assets/colab-badge.svg\" alt=\"Open In Colab\"/></a>"
   ]
  },
  {
   "cell_type": "markdown",
   "metadata": {
    "id": "lyBgUeVKft9w"
   },
   "source": [
    "# AmpLabs Example\n"
   ]
  },
  {
   "cell_type": "markdown",
   "metadata": {
    "id": "3PyEXm9ZhoT9"
   },
   "source": [
    "\n",
    "\n",
    "\n",
    "In this demo you will learn how to:\n",
    "\n",
    "1. Upload/Download various types of battery data from **AmpLabs JSON API**\n",
    "2. Perform simple filtering on battery data\n",
    "\n",
    "**Pandas** is an easy-to-use data structures and data analysis tools for the Python programming language. In Pandas, we can import data from various file formats like JSON, SQL, Microsoft Excel, etc. When working with tabular data, such as data stored in spreadsheets or databases, pandas will help you to explore, clean, and process your data. In pandas, a data table is called a **Data Frame**.\n",
    "\n",
    "Note: Pandas is built off of another library called **NumPy**. \n"
   ]
  },
  {
   "cell_type": "markdown",
   "metadata": {
    "id": "AnfdHtgbhzfP"
   },
   "source": [
    "# Key Terms\n",
    "\n",
    "**API** Application Programming Interface is a set of definitions and protocols for building and integrating application software. AmpLabs provides an API to help you access and control your data.\n",
    "\n",
    "**JavaScript Object Notation** is a lightweight data-interchange format. It is easy for humans to read and write. It is easy for machines to parse and generate. Win/Win\n",
    "\n",
    "[JSON](https://www.json.org/json-en.html) is commonly used as an output format from websites. AmpLabs provides a JSON API for your Battery Data. Records for your battery data look like the following: \n",
    "\n",
    "``` JSON\n",
    "{\n",
    "    \"detail\": \"Records Retrieved\",\n",
    "    \"records\": [\n",
    "        [\n",
    "            {\n",
    "                \"charge_step_count\": null,\n",
    "                \"cycle_charge_capacity\": 1.026650590728431,\n",
    "                \"cycle_charge_energy\": 3.5721314343688153,\n",
    "                \"cycle_coulombic_efficiency\": 1.0020317221497879,\n",
    "                \"cycle_discharge_capacity\": 1.0287364594737067,\n",
    "                \"cycle_discharge_energy\": 3.129065924887601,\n",
    "                \"cycle_duration\": 2529.3717,\n",
    "                \"cycle_end_timestamp\": \"2022-09-06T17:42:31.223598Z\",\n",
    "                \"cycle_energy_efficiency\": 0.8759660674245312,\n",
    "                \"cycle_index\": 1,\n",
    "                \"cycle_max_charge_power\": 23.36383866394476,\n",
    "                \"cycle_max_current\": 6.6025085,\n",
    "                \"cycle_max_discharge_power\": 15.200998988505711,\n",
    "                \"cycle_max_power\": 23.36383866394476,\n",
    "                \"cycle_max_rest_voltage\": 3.5980968,\n",
    "                \"cycle_max_voltage\": 3.6001949,\n",
    "                \"cycle_mean_charge_power\": 9.714367248195945,\n",
    "                \"cycle_mean_charge_voltage\": 3.3811619645885287,\n",
    "                \"cycle_mean_discharge_power\": -10.992575217325712,\n",
    "                \"cycle_mean_discharge_voltage\": 2.793457597077922,\n",
    "                \"cycle_mean_power\": 0.703100827021039,\n",
    "                \"cycle_mean_voltage\": 3.1228079950344827,\n",
    "                \"cycle_min_charge_power\": 0.15608810761640943,\n",
    "                \"cycle_min_current\": -4.4012828,\n",
    "                \"cycle_min_discharge_power\": 0.109924433457156,\n",
    "                \"cycle_min_power\": 0.0,\n",
    "                \"cycle_min_rest_voltage\": 2.0303135,\n",
    "                \"cycle_min_voltage\": 1.9997959,\n",
    "                \"cycle_resistance_end_of_charge\": 0.197672471838036,\n",
    "                \"cycle_resistance_end_of_discharge\": -0.1099885647713824,\n",
    "                \"cycle_resistance_start_of_charge\": 0.993497447188566,\n",
    "                \"cycle_resistance_start_of_discharge\": -1.89296425266147,\n",
    "                \"cycle_start_timestamp\": \"2022-09-06T17:00:21.851898Z\",\n",
    "                \"cycle_time\": null,\n",
    "                \"cycle_total_rest_time\": 105613.492,\n",
    "                \"cycle_voltage_efficiency\": null,\n",
    "                \"datapoint_count\": 725,\n",
    "                \"discharge_step_count\": null,\n",
    "                \"dt_end_of_charge\": 2.1689000000005763,\n",
    "                \"dt_end_of_discharge\": 3.8768999999992957,\n",
    "                \"dt_start_of_charge\": 0.0,\n",
    "                \"dt_start_of_discharge\": 0.16220000000066648,\n",
    "                \"dv_end_of_charge\": -0.0001811999999996594,\n",
    "                \"dv_end_of_discharge\": 9.14999999999111e-05,\n",
    "                \"dv_start_of_charge\": 0.0,\n",
    "                \"dv_start_of_discharge\": -0.010403600000000068,\n",
    "                \"rest_step_count\": null,\n",
    "                \"step_count\": null,\n",
    "                \"test_time\": 7527.4484\n",
    "            },\n",
    "        ]\n",
    "    ],\n",
    "    \"status\": 200\n",
    "}\n",
    "```\n",
    "\n",
    "**Data Frame**. A DataFrame is a 2-dimensional labeled data structure with columns of potentially different types. You can think of it like a spreadsheet or SQL table, or a dict of Series objects. It is generally the most commonly used pandas object. Like Series, DataFrame accepts many different kinds of input:\n",
    "[Dataframe](https://pandas.pydata.org/docs/reference/api/pandas.DataFrame.html)\n",
    "\n",
    "\n",
    "\n",
    "``` Python\n",
    "d = {'col1': [1, 2], 'col2': [3, 4]}\n",
    "df = pd.DataFrame(data=d)\n",
    "```"
   ]
  },
  {
   "cell_type": "code",
   "execution_count": 1,
   "metadata": {
    "colab": {
     "base_uri": "https://localhost:8080/"
    },
    "id": "VHdXBt4yWO_c",
    "outputId": "f5b4b0a3-059b-486d-d8d6-a62c796f4fd2"
   },
   "outputs": [
    {
     "name": "stdout",
     "output_type": "stream",
     "text": [
      "Looking in indexes: https://pypi.org/simple, https://us-python.pkg.dev/colab-wheels/public/simple/\n",
      "Requirement already satisfied: pandas in /usr/local/lib/python3.7/dist-packages (1.3.5)\n",
      "Requirement already satisfied: matplotlib in /usr/local/lib/python3.7/dist-packages (3.2.2)\n",
      "Requirement already satisfied: seaborn in /usr/local/lib/python3.7/dist-packages (0.11.2)\n",
      "Requirement already satisfied: numpy>=1.17.3 in /usr/local/lib/python3.7/dist-packages (from pandas) (1.21.6)\n",
      "Requirement already satisfied: pytz>=2017.3 in /usr/local/lib/python3.7/dist-packages (from pandas) (2022.1)\n",
      "Requirement already satisfied: python-dateutil>=2.7.3 in /usr/local/lib/python3.7/dist-packages (from pandas) (2.8.2)\n",
      "Requirement already satisfied: six>=1.5 in /usr/local/lib/python3.7/dist-packages (from python-dateutil>=2.7.3->pandas) (1.15.0)\n",
      "Requirement already satisfied: pyparsing!=2.0.4,!=2.1.2,!=2.1.6,>=2.0.1 in /usr/local/lib/python3.7/dist-packages (from matplotlib) (3.0.9)\n",
      "Requirement already satisfied: cycler>=0.10 in /usr/local/lib/python3.7/dist-packages (from matplotlib) (0.11.0)\n",
      "Requirement already satisfied: kiwisolver>=1.0.1 in /usr/local/lib/python3.7/dist-packages (from matplotlib) (1.4.2)\n",
      "Requirement already satisfied: typing-extensions in /usr/local/lib/python3.7/dist-packages (from kiwisolver>=1.0.1->matplotlib) (4.2.0)\n",
      "Requirement already satisfied: scipy>=1.0 in /usr/local/lib/python3.7/dist-packages (from seaborn) (1.4.1)\n"
     ]
    }
   ],
   "source": [
    "import sys\n",
    "!{sys.executable} -m pip install pandas matplotlib seaborn requests"
   ]
  },
  {
   "cell_type": "markdown",
   "metadata": {
    "id": "P2qQBN--CsAJ"
   },
   "source": [
    "Import the libraries we downloaded into the Python environment"
   ]
  },
  {
   "cell_type": "code",
   "execution_count": 2,
   "metadata": {
    "id": "sVmR6GDcim-p"
   },
   "outputs": [],
   "source": [
    "# Useful for fetching data from the web \n",
    "\n",
    "import json\n",
    "import requests\n",
    "import gzip\n",
    "import json\n",
    "from fileinput import filename\n",
    "import shutil\n",
    "import time\n",
    "import matplotlib.pyplot as plt\n",
    "import seaborn as sns\n",
    "\n",
    "# PyData Libraries\n",
    "\n",
    "import pandas as pd\n",
    "import numpy as np"
   ]
  },
  {
   "cell_type": "markdown",
   "metadata": {
    "id": "NhHMF-Qqjn2H"
   },
   "source": [
    "# Define Helper Functions\n",
    "\n",
    "The following section defines functions that will help us **read** data from and **write** data to the AmpLabs JSON API. \n",
    "\n"
   ]
  },
  {
   "cell_type": "markdown",
   "metadata": {
    "id": "MvKGdG_0e1Gc"
   },
   "source": [
    "## Functions to help Get Data from AmpLabs\n",
    "\n",
    "\n"
   ]
  },
  {
   "cell_type": "code",
   "execution_count": 9,
   "metadata": {
    "id": "dTr5wTzwWDSf"
   },
   "outputs": [],
   "source": [
    "# Function used to fetch cycle data from AmpLabs\n",
    "def get_amplabs_cycledata(user_token, cell_id):\n",
    "    url = \"https://www.amplabs.ai/download/cells/cycle_data_json?cell_id={}\".format(cell_id.replace('/','%2F'))\n",
    "    headers = {\n",
    "    \"Authorization\": \"Bearer {}\".format(user_token),\n",
    "    }\n",
    "    try:\n",
    "        response = requests.request(\"GET\", url, headers=headers)\n",
    "        res =  json.loads(response.text)\n",
    "        response = requests.request(\"GET\",res[\"response_url\"])\n",
    "        response = gzip.decompress(response.content)\n",
    "        return json.loads(response.decode()), 1\n",
    "    except requests.exceptions.RequestException as e:\n",
    "        print(e)\n",
    "    return None,0\n",
    "\n",
    "\n",
    "# Function used to fetch timeseries data from AmpLabs\n",
    "def get_amplabs_timeseriesdata(user_token, cell_id):\n",
    "    url = \"https://www.amplabs.ai/download/cells/cycle_timeseries_json?cell_id={}\".format(cell_id.replace('/','%2F'))\n",
    "    headers = {\n",
    "    \"Authorization\": \"Bearer {}\".format(user_token),\n",
    "    }\n",
    "    try:\n",
    "        response = requests.request(\"GET\", url, headers=headers)\n",
    "        res =  json.loads(response.text)\n",
    "        response = requests.request(\"GET\",res[\"response_url\"])\n",
    "        response = gzip.decompress(response.content)\n",
    "        return json.loads(response.decode()), 1\n",
    "    except requests.exceptions.RequestException as e:\n",
    "        print(e)\n",
    "    return None,0\n",
    "\n",
    "\n",
    "# Function used to fetch test meta data from AmpLabs\n",
    "def get_amplabs_meta(user_token, cell_id):\n",
    "    url = 'https://www.amplabs.ai/cells/tests/cycle/metaWithId?cell_id={}'.format(cell_id.replace('/','%2F'))\n",
    "    headers = {\n",
    "    \"Authorization\": \"Bearer {}\".format(user_token),\n",
    "    }\n",
    "    try:\n",
    "        response = requests.request(\"GET\", url, headers=headers)\n",
    "        response = json.loads(response.text)\n",
    "        return response, 1\n",
    "    except requests.exceptions.RequestException as e:\n",
    "        print(e)\n",
    "    return None, 0"
   ]
  },
  {
   "cell_type": "markdown",
   "metadata": {
    "id": "e09060C2iTCm"
   },
   "source": [
    "**Check your understanding**\n",
    "1. What is JSON? \n",
    "\n",
    "2. Is JSON machine readable?\n",
    "\n",
    "3. What is a GET Request?"
   ]
  },
  {
   "cell_type": "code",
   "execution_count": 6,
   "metadata": {
    "id": "9dUDQPga264o"
   },
   "outputs": [],
   "source": [
    "user_token = \"<your-token>\"\n",
    "cell_id = 'your-cell-id'"
   ]
  },
  {
   "cell_type": "code",
   "execution_count": 7,
   "metadata": {
    "colab": {
     "base_uri": "https://localhost:8080/"
    },
    "id": "ZOcQqd1nha1O",
    "outputId": "a4f7ee72-88c4-4c2d-aeac-f574f1d0ae09"
   },
   "outputs": [
    {
     "name": "stdout",
     "output_type": "stream",
     "text": [
      "https://www.amplabs.ai/cells/tests/cycle/meta?cell_id=NMC-E4-2\n"
     ]
    },
    {
     "data": {
      "text/plain": [
       "({'detail': 'Records Retrieved',\n",
       "  'records': [[{'cell_id': 'NMC-E4-2',\n",
       "     'crate_c': 0.0,\n",
       "     'crate_d': 0.0,\n",
       "     'index': 519,\n",
       "     'soc_max': 0.0,\n",
       "     'soc_min': 0.0,\n",
       "     'temperature': 0.0,\n",
       "     'v_max': None,\n",
       "     'v_min': None},\n",
       "    {'cell_id': 'alluaudite',\n",
       "     'crate_c': 0.05,\n",
       "     'crate_d': 0.05,\n",
       "     'index': 345,\n",
       "     'soc_max': 0.0,\n",
       "     'soc_min': 0.0,\n",
       "     'temperature': 25.0,\n",
       "     'v_max': None,\n",
       "     'v_min': None},\n",
       "    {'cell_id': 'alluaudite2',\n",
       "     'crate_c': 0.0,\n",
       "     'crate_d': 0.0,\n",
       "     'index': 346,\n",
       "     'soc_max': 0.0,\n",
       "     'soc_min': 0.0,\n",
       "     'temperature': 0.0,\n",
       "     'v_max': None,\n",
       "     'v_min': None}]],\n",
       "  'status': 200},\n",
       " 1)"
      ]
     },
     "execution_count": 5,
     "metadata": {},
     "output_type": "execute_result"
    }
   ],
   "source": [
    "get_amplabs_meta(user_token, cell_id)"
   ]
  },
  {
   "cell_type": "markdown",
   "metadata": {
    "id": "GuzIa7zDPdII"
   },
   "source": [
    "# Fetch data and store it into a dictionary of data frames"
   ]
  },
  {
   "cell_type": "code",
   "execution_count": 10,
   "metadata": {
    "colab": {
     "base_uri": "https://localhost:8080/",
     "height": 343
    },
    "id": "sOc0VKirpTOk",
    "outputId": "28b14a57-b5e6-4907-c807-07f7594a9b08"
   },
   "outputs": [
    {
     "data": {
      "text/html": [
       "<div>\n",
       "<style scoped>\n",
       "    .dataframe tbody tr th:only-of-type {\n",
       "        vertical-align: middle;\n",
       "    }\n",
       "\n",
       "    .dataframe tbody tr th {\n",
       "        vertical-align: top;\n",
       "    }\n",
       "\n",
       "    .dataframe thead th {\n",
       "        text-align: right;\n",
       "    }\n",
       "</style>\n",
       "<table border=\"1\" class=\"dataframe\">\n",
       "  <thead>\n",
       "    <tr style=\"text-align: right;\">\n",
       "      <th></th>\n",
       "      <th>capacity_throughput</th>\n",
       "      <th>cell_temperature</th>\n",
       "      <th>charge_capacity</th>\n",
       "      <th>charge_energy</th>\n",
       "      <th>cumulative_charge_capacity</th>\n",
       "      <th>cumulative_charge_energy</th>\n",
       "      <th>cumulative_discharge_capacity</th>\n",
       "      <th>cumulative_discharge_energy</th>\n",
       "      <th>current</th>\n",
       "      <th>cycle_charge_capacity</th>\n",
       "      <th>...</th>\n",
       "      <th>power</th>\n",
       "      <th>step_datapoint_ordinal</th>\n",
       "      <th>step_index</th>\n",
       "      <th>step_time</th>\n",
       "      <th>step_type</th>\n",
       "      <th>test_datapoint_ordinal</th>\n",
       "      <th>test_net_capacity</th>\n",
       "      <th>test_net_enerygy</th>\n",
       "      <th>test_time</th>\n",
       "      <th>voltage</th>\n",
       "    </tr>\n",
       "  </thead>\n",
       "  <tbody>\n",
       "    <tr>\n",
       "      <th>0</th>\n",
       "      <td>0.000000</td>\n",
       "      <td>None</td>\n",
       "      <td>0.000000</td>\n",
       "      <td>0.000000</td>\n",
       "      <td>0.000000</td>\n",
       "      <td>0.000000</td>\n",
       "      <td>0.0</td>\n",
       "      <td>0.0</td>\n",
       "      <td>0.469131</td>\n",
       "      <td>0.000000</td>\n",
       "      <td>...</td>\n",
       "      <td>0.993497</td>\n",
       "      <td>None</td>\n",
       "      <td>None</td>\n",
       "      <td>None</td>\n",
       "      <td>Charge</td>\n",
       "      <td>1</td>\n",
       "      <td>0.000000</td>\n",
       "      <td>None</td>\n",
       "      <td>4998.0767</td>\n",
       "      <td>2.117738</td>\n",
       "    </tr>\n",
       "    <tr>\n",
       "      <th>1</th>\n",
       "      <td>0.016270</td>\n",
       "      <td>None</td>\n",
       "      <td>0.000002</td>\n",
       "      <td>0.000002</td>\n",
       "      <td>0.000002</td>\n",
       "      <td>0.000002</td>\n",
       "      <td>0.0</td>\n",
       "      <td>0.0</td>\n",
       "      <td>0.683594</td>\n",
       "      <td>0.000002</td>\n",
       "      <td>...</td>\n",
       "      <td>1.457769</td>\n",
       "      <td>None</td>\n",
       "      <td>None</td>\n",
       "      <td>None</td>\n",
       "      <td>Charge</td>\n",
       "      <td>2</td>\n",
       "      <td>0.016270</td>\n",
       "      <td>None</td>\n",
       "      <td>4998.1005</td>\n",
       "      <td>2.132508</td>\n",
       "    </tr>\n",
       "    <tr>\n",
       "      <th>2</th>\n",
       "      <td>0.018124</td>\n",
       "      <td>None</td>\n",
       "      <td>0.000007</td>\n",
       "      <td>0.000012</td>\n",
       "      <td>0.000009</td>\n",
       "      <td>0.000014</td>\n",
       "      <td>0.0</td>\n",
       "      <td>0.0</td>\n",
       "      <td>0.897236</td>\n",
       "      <td>0.000009</td>\n",
       "      <td>...</td>\n",
       "      <td>1.929361</td>\n",
       "      <td>None</td>\n",
       "      <td>None</td>\n",
       "      <td>None</td>\n",
       "      <td>Charge</td>\n",
       "      <td>3</td>\n",
       "      <td>0.055748</td>\n",
       "      <td>None</td>\n",
       "      <td>4998.1207</td>\n",
       "      <td>2.150338</td>\n",
       "    </tr>\n",
       "    <tr>\n",
       "      <th>3</th>\n",
       "      <td>0.029100</td>\n",
       "      <td>None</td>\n",
       "      <td>0.000014</td>\n",
       "      <td>0.000028</td>\n",
       "      <td>0.000023</td>\n",
       "      <td>0.000042</td>\n",
       "      <td>0.0</td>\n",
       "      <td>0.0</td>\n",
       "      <td>1.106457</td>\n",
       "      <td>0.000023</td>\n",
       "      <td>...</td>\n",
       "      <td>2.401812</td>\n",
       "      <td>None</td>\n",
       "      <td>None</td>\n",
       "      <td>None</td>\n",
       "      <td>Charge</td>\n",
       "      <td>4</td>\n",
       "      <td>0.133532</td>\n",
       "      <td>None</td>\n",
       "      <td>4998.1470</td>\n",
       "      <td>2.170724</td>\n",
       "    </tr>\n",
       "    <tr>\n",
       "      <th>4</th>\n",
       "      <td>0.036044</td>\n",
       "      <td>None</td>\n",
       "      <td>0.000023</td>\n",
       "      <td>0.000047</td>\n",
       "      <td>0.000046</td>\n",
       "      <td>0.000090</td>\n",
       "      <td>0.0</td>\n",
       "      <td>0.0</td>\n",
       "      <td>1.370487</td>\n",
       "      <td>0.000046</td>\n",
       "      <td>...</td>\n",
       "      <td>3.014184</td>\n",
       "      <td>None</td>\n",
       "      <td>None</td>\n",
       "      <td>None</td>\n",
       "      <td>Charge</td>\n",
       "      <td>5</td>\n",
       "      <td>0.265921</td>\n",
       "      <td>None</td>\n",
       "      <td>4998.1733</td>\n",
       "      <td>2.199352</td>\n",
       "    </tr>\n",
       "  </tbody>\n",
       "</table>\n",
       "<p>5 rows × 39 columns</p>\n",
       "</div>"
      ],
      "text/plain": [
       "   capacity_throughput cell_temperature  charge_capacity  charge_energy  \\\n",
       "0             0.000000             None         0.000000       0.000000   \n",
       "1             0.016270             None         0.000002       0.000002   \n",
       "2             0.018124             None         0.000007       0.000012   \n",
       "3             0.029100             None         0.000014       0.000028   \n",
       "4             0.036044             None         0.000023       0.000047   \n",
       "\n",
       "   cumulative_charge_capacity  cumulative_charge_energy  \\\n",
       "0                    0.000000                  0.000000   \n",
       "1                    0.000002                  0.000002   \n",
       "2                    0.000009                  0.000014   \n",
       "3                    0.000023                  0.000042   \n",
       "4                    0.000046                  0.000090   \n",
       "\n",
       "   cumulative_discharge_capacity  cumulative_discharge_energy   current  \\\n",
       "0                            0.0                          0.0  0.469131   \n",
       "1                            0.0                          0.0  0.683594   \n",
       "2                            0.0                          0.0  0.897236   \n",
       "3                            0.0                          0.0  1.106457   \n",
       "4                            0.0                          0.0  1.370487   \n",
       "\n",
       "   cycle_charge_capacity    ...        power  step_datapoint_ordinal  \\\n",
       "0               0.000000    ...     0.993497                    None   \n",
       "1               0.000002    ...     1.457769                    None   \n",
       "2               0.000009    ...     1.929361                    None   \n",
       "3               0.000023    ...     2.401812                    None   \n",
       "4               0.000046    ...     3.014184                    None   \n",
       "\n",
       "   step_index  step_time  step_type  test_datapoint_ordinal  \\\n",
       "0        None       None     Charge                       1   \n",
       "1        None       None     Charge                       2   \n",
       "2        None       None     Charge                       3   \n",
       "3        None       None     Charge                       4   \n",
       "4        None       None     Charge                       5   \n",
       "\n",
       "   test_net_capacity test_net_enerygy  test_time   voltage  \n",
       "0           0.000000             None  4998.0767  2.117738  \n",
       "1           0.016270             None  4998.1005  2.132508  \n",
       "2           0.055748             None  4998.1207  2.150338  \n",
       "3           0.133532             None  4998.1470  2.170724  \n",
       "4           0.265921             None  4998.1733  2.199352  \n",
       "\n",
       "[5 rows x 39 columns]"
      ]
     },
     "execution_count": 9,
     "metadata": {},
     "output_type": "execute_result"
    }
   ],
   "source": [
    "response, status = get_amplabs_timeseriesdata(user_token, cell_id)\n",
    "df = pd.DataFrame(response['records'][0])\n",
    "df.head()"
   ]
  },
  {
   "cell_type": "code",
   "execution_count": 10,
   "metadata": {
    "id": "m6W8smZnEHyO"
   },
   "outputs": [],
   "source": [
    "## ADD PLOTS HERE"
   ]
  },
  {
   "cell_type": "code",
   "execution_count": 11,
   "metadata": {
    "id": "o6jcCS4aHLnA"
   },
   "outputs": [],
   "source": [
    "## Voltage-time\n",
    "def plot_voltage_time(df, xlim=None, ylim=None):\n",
    "    \"\"\"\n",
    "    DESCRIPTION: Given arbin data in the form of either a .res, .csv, or .xlsx file, will parse the file and plot voltage versus time graphs\n",
    "                 Sample-specific details not found in the arbin file such as molar mass, \n",
    "                 active mass, ion type, ect. can be specified by user PARAMETERS, and by editing an external supplementary data file, specified \n",
    "                 by SUPPLEMENTARY_DATA_PATH. Thus, make sure that your arbin file name matches the sample name in the supplementary data file. \n",
    "                 Note that underscores \"_\" in the data file are automatically replaced by periods \".\" in the supplementary data file.\n",
    "    PARAMETERS:\n",
    "        data_files: list of strings\n",
    "            A list containing the file names, including extensions, of the arbin data to read. Failing to put extensions may result\n",
    "            in the wrong file being read. If \"choose_file\" is set to TRUE, this argument is ignored\n",
    "        choose_files: Boolean\n",
    "            If this is set to True, will prompt a file explorer dialouge for the user to manually choose files\n",
    "        cycle_range: list of integers\n",
    "            A zero-indexed list of cycle numbers to be plotted, for each rate.\n",
    "        rate_list: list of strings\n",
    "            The list of C-rates being tested. Used for labelling the plots. \n",
    "        x_lim: None, tuple of floats (float, float)\n",
    "            The x-axis plot range. If set to None, uses matplotlib's default\n",
    "        y_lim: None, tuple of floats (float, float)\n",
    "            The y-axis plot range. If set to None, uses matplotlin's default\n",
    "        ion: string\n",
    "            the ion that is being conducted. This will affect the axis labels on the plot\n",
    "    RETURNS: None\n",
    "    \"\"\"\n",
    "    # plot parameters\n",
    "    plt.rcParams.update({'font.size': 25})\n",
    "    plt.rcParams.update({'font.family':'Arial'})\n",
    "    # plot size\n",
    "    plt.figure(figsize=(8,7))\n",
    "    # font size for x- and y- axis labels\n",
    "    fsize = 25  \n",
    "    ax = plt.gca()\n",
    "    plt.plot(df['test_time']/3600, df['voltage'], '-', linewidth=1)\n",
    "    # labelling x and y axes\n",
    "    plt.ylabel('Voltage [V]', fontsize=fsize)\n",
    "    plt.xlabel('Time [hours]', fontsize=fsize)\n",
    "    if xlim:\n",
    "        plt.xlim(xlim)\n",
    "    if ylim:\n",
    "        plt.ylim(ylim)\n",
    "\n",
    "    # showing the legend, can set legend size\n",
    "    # plt.legend(prop={'size': 18}).set_draggable(True)\n",
    "    plt.tight_layout()\n",
    "    # Save matplotlib figure as png\n",
    "    print('--------------------------------------------------------------------')\n",
    "    plt.show()\n"
   ]
  },
  {
   "cell_type": "code",
   "execution_count": 12,
   "metadata": {
    "colab": {
     "base_uri": "https://localhost:8080/",
     "height": 512
    },
    "id": "VFBw-abCHLjn",
    "outputId": "8d83a1b5-135f-4852-fca8-532517bbaa3e"
   },
   "outputs": [
    {
     "name": "stderr",
     "output_type": "stream",
     "text": [
      "findfont: Font family ['Arial'] not found. Falling back to DejaVu Sans.\n"
     ]
    },
    {
     "name": "stdout",
     "output_type": "stream",
     "text": [
      "--------------------------------------------------------------------\n"
     ]
    },
    {
     "data": {
      "image/png": "[encoded data removed]",
      "text/plain": [
       "<Figure size 576x504 with 1 Axes>"
      ]
     },
     "metadata": {
      "needs_background": "light"
     },
     "output_type": "display_data"
    }
   ],
   "source": [
    "plot_voltage_time(df)"
   ]
  },
  {
   "cell_type": "code",
   "execution_count": 13,
   "metadata": {
    "id": "rZe0MgJTHLWJ"
   },
   "outputs": [],
   "source": [
    "## Galvanostatic (Voltage-capacity)\n",
    "def plotEchem(df, figure_save_path=None, system=None, cycle_range=range(2,3), xlim=None, ylim=None, color_theme='viridis', molar_mass=0, fig_size=(7,7),\\\n",
    "     show=True, ion=\"\", style=\"standard\"):\n",
    "    \"\"\"\n",
    "    DESCRIPTION: Takes in a pandas dataFrame object with raw electrochemical data indexed according to cycle numbers and generates\n",
    "                 a matplotlib.pyplot object, which is a plot of the galvanostatic voltage-capacity curve. It will save the plot as\n",
    "                 a .png file in the directory specified by FIG_SAVE_DIR\n",
    "    PARAMETERS:\n",
    "        df: pandas dataframe\n",
    "            a pandas dataframe object which contains data for specific capacity and voltage as each cycle index\n",
    "        figure_save_path: string\n",
    "            the path to save the plot \n",
    "        system: string \n",
    "            the name of the system that is being electrochemically cycled. This is usually specified by the raw data file name\n",
    "        cycle_range: list of integers\n",
    "            a zero-index list of cycles indices to plot\n",
    "        x_lim: None, tuple of floats (float, float)\n",
    "            The x-axis plot range. If set to None, uses matplotlib's default\n",
    "        y_lim: None, tuple of floats (float, float)\n",
    "            The y-axis plot range. If set to None, uses matplotlin's default\n",
    "        show: Boolean\n",
    "            whether or not to display the matplotlib plot (default=True)\n",
    "        molar mass: float\n",
    "            the molar mass of the active material. Used to calculate number of ion ions inserted/ extracted\n",
    "        ion: string\n",
    "            the ion that is being transported. Used as part of the axis label name\n",
    "    RETURNS: None\n",
    "    \"\"\"\n",
    "    # find the number of curves so that colors can be mapped\n",
    "    num_curves = 0\n",
    "    first_index = None\n",
    "    last_index = None\n",
    "    for index in cycle_range:\n",
    "        if index < len(df) and index >= 0:\n",
    "            if num_curves == 0:\n",
    "                first_index = index\n",
    "            else:\n",
    "                last_index = index\n",
    "            num_curves += 1\n",
    "        \n",
    "    # set colors\n",
    "    if color_theme:\n",
    "        # print(num_curves)\n",
    "        sns.set_palette(color_theme, num_curves)\n",
    "    # plot parameters\n",
    "    plt.rcParams.update({'font.size': 25})\n",
    "    plt.rcParams.update({'font.family':'Arial'})\n",
    "    # plot size\n",
    "    border_width=2.5\n",
    "    plt.figure(figsize=fig_size, num=system, dpi=100)\n",
    "    plt.rcParams[\"figure.autolayout\"] = True\n",
    "    plt.rcParams[\"axes.edgecolor\"] = \"black\"\n",
    "    plt.rcParams[\"axes.linewidth\"] = border_width\n",
    "    \n",
    "    # font size for x- and y- axis labels\n",
    "    fsize = 25  \n",
    "    ax = plt.gca()\n",
    "    tick_len = 5\n",
    "    ax.tick_params(direction=\"in\", width=border_width, length=tick_len)\n",
    "    # For each cycle, plot both charge and discharge curves with the same color\n",
    "    for index in cycle_range:\n",
    "        # print(\"Original\")\n",
    "        # print()\n",
    "        # print(df.shape)\n",
    "        # print(df.head())\n",
    "        if index < len(df) and index >= 0:\n",
    "            # the specific capacity data for discharge curve\n",
    "            index_filtered = df[df['cycle_index'] == index]\n",
    "            index_filtered = index_filtered.sort_values('test_time')\n",
    "#            print(index_filtered.shape)\n",
    "#            print(index_filtered.head())\n",
    "            discharge_cap = np.array(index_filtered[index_filtered['current'] < 0 ]['cycle_discharge_capacity'])\n",
    "            # print(index_filtered)\n",
    "            discharge_voltage = np.array(index_filtered[index_filtered['current'] < 0]['voltage'])\n",
    "            # the specific capacity data for charge curve\n",
    "            index_filtered_charge = df[(df['cycle_index'] == index)]\n",
    "            charge_cap = np.array(index_filtered_charge[index_filtered_charge['current'] > 0 ]['cycle_charge_capacity'])\n",
    "            charge_voltage = np.array(index_filtered_charge[index_filtered_charge['current'] > 0 ]['voltage'])\n",
    "\n",
    "            # if style == \"standard\":\n",
    "            #     discharge_cap = np.array(df[index]['discharge']['Discharge_Capacity'])\n",
    "            # else:\n",
    "            #     final_charge_cap = charge_cap[-1] \n",
    "            #     # the specific capacity data for discharge curve, altered so that the plot will better show hysterisis\n",
    "            #     discharge_cap = final_charge_cap - np.array(df[index]['discharge']['Discharge_Capacity'])\n",
    "            #     # the charge and discharge voltages\n",
    "\n",
    "            # setting the color to plot\n",
    "            color = next(ax._get_lines.prop_cycler)['color']\n",
    "\n",
    "            test_time = np.array(df['test_time'])\n",
    "            charge_capacity = np.array(df['charge_capacity'])\n",
    "            print(df['charge_capacity'].iloc[3000:3010])\n",
    "            plt.plot(discharge_cap, discharge_voltage)\n",
    "            plt.plot(charge_cap, charge_voltage)\n",
    "            # labelling the cycle\n",
    "            # if index == first_index or index == last_index:\n",
    "            #     plt.plot(charge_cap, charge_voltage, '-', color=color,  linewidth=4, label='Cycle %s'%(index+1))\n",
    "            # else:\n",
    "            #     plt.plot(charge_cap, charge_voltage, '-', color=color,  linewidth=4)\n",
    "            # # plotting the cycle\n",
    "            # plt.plot(discharge_cap, discharge_voltage, '-', color=color, linewidth=4)\n",
    "    # labelling x and y axes\n",
    "    plt.ylabel('Voltage [V]', fontsize=fsize)\n",
    "    plt.xlabel('Capacity [mAh/g]', fontsize=fsize)\n",
    "    if xlim:\n",
    "        plt.xlim(xlim)\n",
    "    if ylim:\n",
    "        plt.ylim(ylim)\n",
    "    # plt.xlim((-5, 110))\n",
    "    \n",
    "    # can manually set the x_ticks (this is where labels will be placed, in terms of specific capacity of active material):\n",
    "    # ax.set_xticks([-10, 0, 10, 20, 30, 40, 50, 60])\n",
    "\n",
    "    # In order to have a secondary x axis that shows the amount of ion inserted/ extracted, two functions need to be defined:\n",
    "    # one to convert specific capacity to ion exchanged, and a reverse function to convert ion exhanged to specific capacity\n",
    "\n",
    "    # given the molar mass, the specific capacity that corresponds to the insertion of one ion (Li+ or Na+) ion\n",
    "    # formula: single_ion_capacity [mAh/g] =  = 1/(molar mass)*(faraday's constant)*(coulomb to mAh conversion)\n",
    "    # dimensional analysis: 1/[mol/g]*[C/mol]*[mAh/C] = [mAh/g]\n",
    "    # single_ion_capacity = 1/molar_mass*96500*0.2777\n",
    "\n",
    "    # # function to convert active material specific capacity to alkali ions inserted/ extracted\n",
    "    # def active_to_ion(capacity):\n",
    "    #     return capacity/single_ion_capacity\n",
    "\n",
    "    # # function to convert alkali ions inserted/ extracted to active material specific capacity\n",
    "    # def ion_to_active(capacity):\n",
    "    #     return capacity*single_ion_capacity\n",
    "\n",
    "    # creates a secondary axis showing alkali ions inserted/ extracted using the two functions defined above\n",
    "    # ax2 = ax.secondary_xaxis('top', functions=(active_to_ion, ion_to_active))\n",
    "    # ax2.set_xlabel('{}$^+$ ions inserted/ extracted'.format(ion))\n",
    "    # ax2.tick_params(direction=\"in\", width=border_width, length=tick_len)\n",
    "\n",
    "    # A way to manually set secondary axis ticks... not recommended\n",
    "    # xticks = ax.get_xticks()\n",
    "    # ax2.set_xticks(xticks)\n",
    "    # ticklabels = [0, 0.5, 1.0, 1.5, 2, 2.5, 3]\n",
    "    # ax2.set_xticks([x*single_ion_capacity for x in ticklabels])\n",
    "    # ax2.set_xticklabels(ticklabels)\n",
    "\n",
    "    # showing the legend, can set legend size\n",
    "    plt.legend(prop={'size': 18}, frameon=False).set_draggable(True)\n",
    "    plt.tight_layout()\n",
    "    plt.show()\n",
    "    # Save matplotlib figure as png\n"
   ]
  },
  {
   "cell_type": "code",
   "execution_count": 14,
   "metadata": {
    "colab": {
     "base_uri": "https://localhost:8080/",
     "height": 857
    },
    "id": "jou1PZMoKRlc",
    "outputId": "bbadded8-e93a-4e29-ec1d-9805c79ed3ac"
   },
   "outputs": [
    {
     "name": "stderr",
     "output_type": "stream",
     "text": [
      "No handles with labels found to put in legend.\n"
     ]
    },
    {
     "name": "stdout",
     "output_type": "stream",
     "text": [
      "3000    0.001651\n",
      "3001    0.001651\n",
      "3002    0.001651\n",
      "3003    0.001651\n",
      "3004    0.001651\n",
      "3005    0.001651\n",
      "3006    0.001651\n",
      "3007    0.001651\n",
      "3008    0.001651\n",
      "3009    0.001651\n",
      "Name: Charge_Capacity (Ah), dtype: float64\n"
     ]
    },
    {
     "data": {
      "image/png": "[encoded data removed]",
      "text/plain": [
       "<Figure size 700x700 with 1 Axes>"
      ]
     },
     "metadata": {
      "needs_background": "light"
     },
     "output_type": "display_data"
    }
   ],
   "source": [
    "plotEchem(df)"
   ]
  },
  {
   "cell_type": "code",
   "execution_count": null,
   "metadata": {
    "id": "ImyCPIcKLIUG"
   },
   "outputs": [],
   "source": []
  }
 ],
 "metadata": {
  "colab": {
   "collapsed_sections": [],
   "include_colab_link": true,
   "name": "AmpLabs Example - Basic Plotting",
   "provenance": []
  },
  "kernelspec": {
   "display_name": "Python 3",
   "language": "python",
   "name": "python3"
  },
  "language_info": {
   "codemirror_mode": {
    "name": "ipython",
    "version": 3
   },
   "file_extension": ".py",
   "mimetype": "text/x-python",
   "name": "python",
   "nbconvert_exporter": "python",
   "pygments_lexer": "ipython3",
   "version": "3.6.5"
  }
 },
 "nbformat": 4,
 "nbformat_minor": 1
}
